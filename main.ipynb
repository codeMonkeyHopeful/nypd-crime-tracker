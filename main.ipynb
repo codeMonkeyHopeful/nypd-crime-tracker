{
 "cells": [
  {
   "cell_type": "markdown",
   "metadata": {},
   "source": [
    "## Analysis to run"
   ]
  },
  {
   "cell_type": "code",
   "execution_count": 120,
   "metadata": {},
   "outputs": [
    {
     "data": {
      "text/plain": [
       "'\\n# 1) Cut of hate crime over 2020 by district top by counts  - done\\n2) Cut of hate crime by law code type, what is the highest in the city\\n3) Highest type of crime over time - pick the top one  - done\\n4) 6 month change over the year delta, top 5 \\n5) Top Bias types\\n6) \\n'"
      ]
     },
     "execution_count": 120,
     "metadata": {},
     "output_type": "execute_result"
    }
   ],
   "source": [
    "'''\n",
    "# 1) Cut of hate crime over 2020 by district top by counts  - done\n",
    "2) Cut of hate crime by law code type, what is the highest in the city\n",
    "3) Highest type of crime over time - pick the top one  - done\n",
    "4) 6 month change over the year delta, top 5 \n",
    "5) Top Bias types\n",
    "6) Longest time to report a crime\n",
    "'''"
   ]
  },
  {
   "cell_type": "code",
   "execution_count": 121,
   "metadata": {
    "scrolled": true
   },
   "outputs": [],
   "source": [
    "import numpy as np\n",
    "import pandas as pd\n",
    "import matplotlib.pyplot as plt\n",
    "import datetime as dt\n",
    "%matplotlib inline"
   ]
  },
  {
   "cell_type": "code",
   "execution_count": 122,
   "metadata": {},
   "outputs": [],
   "source": [
    "main = pd.read_csv('NYPD_Hate_Crimes.csv')\n",
    "main_copy = main.copy()"
   ]
  },
  {
   "cell_type": "code",
   "execution_count": 123,
   "metadata": {
    "scrolled": true
   },
   "outputs": [
    {
     "data": {
      "text/html": [
       "<div>\n",
       "<style scoped>\n",
       "    .dataframe tbody tr th:only-of-type {\n",
       "        vertical-align: middle;\n",
       "    }\n",
       "\n",
       "    .dataframe tbody tr th {\n",
       "        vertical-align: top;\n",
       "    }\n",
       "\n",
       "    .dataframe thead th {\n",
       "        text-align: right;\n",
       "    }\n",
       "</style>\n",
       "<table border=\"1\" class=\"dataframe\">\n",
       "  <thead>\n",
       "    <tr style=\"text-align: right;\">\n",
       "      <th></th>\n",
       "      <th>Full Complaint ID</th>\n",
       "      <th>Complaint Year Number</th>\n",
       "      <th>Month Number</th>\n",
       "      <th>Record Create Date</th>\n",
       "      <th>Complaint Precinct Code</th>\n",
       "      <th>Patrol Borough Name</th>\n",
       "      <th>County</th>\n",
       "      <th>Law Code Category Description</th>\n",
       "      <th>Offense Description</th>\n",
       "      <th>PD Code Description</th>\n",
       "      <th>Bias Motive Description</th>\n",
       "      <th>Offense Category</th>\n",
       "      <th>Other Motive Description</th>\n",
       "      <th>Arrest Date</th>\n",
       "      <th>Arrest Id</th>\n",
       "    </tr>\n",
       "  </thead>\n",
       "  <tbody>\n",
       "    <tr>\n",
       "      <th>0</th>\n",
       "      <td>201904600132799</td>\n",
       "      <td>2019</td>\n",
       "      <td>2</td>\n",
       "      <td>02/08/2019</td>\n",
       "      <td>46</td>\n",
       "      <td>PATROL BORO BRONX</td>\n",
       "      <td>BRONX</td>\n",
       "      <td>FELONY</td>\n",
       "      <td>FELONY ASSAULT</td>\n",
       "      <td>ASSAULT 2,1,UNCLASSIFIED</td>\n",
       "      <td>ANTI-MALE HOMOSEXUAL(GAY)</td>\n",
       "      <td>Sexual Orientation</td>\n",
       "      <td>NaN</td>\n",
       "      <td>02/08/2019</td>\n",
       "      <td>B19606200</td>\n",
       "    </tr>\n",
       "    <tr>\n",
       "      <th>1</th>\n",
       "      <td>201904800157499</td>\n",
       "      <td>2019</td>\n",
       "      <td>3</td>\n",
       "      <td>03/09/2019</td>\n",
       "      <td>48</td>\n",
       "      <td>PATROL BORO BRONX</td>\n",
       "      <td>BRONX</td>\n",
       "      <td>MISDEMEANOR</td>\n",
       "      <td>ASSAULT 3 &amp; RELATED OFFENSES</td>\n",
       "      <td>ASSAULT 3</td>\n",
       "      <td>ANTI-WHITE</td>\n",
       "      <td>Race/Color</td>\n",
       "      <td>NaN</td>\n",
       "      <td>03/09/2019</td>\n",
       "      <td>B19610772</td>\n",
       "    </tr>\n",
       "    <tr>\n",
       "      <th>2</th>\n",
       "      <td>201904800154599</td>\n",
       "      <td>2019</td>\n",
       "      <td>3</td>\n",
       "      <td>03/08/2019</td>\n",
       "      <td>48</td>\n",
       "      <td>PATROL BORO BRONX</td>\n",
       "      <td>BRONX</td>\n",
       "      <td>MISDEMEANOR</td>\n",
       "      <td>ASSAULT 3 &amp; RELATED OFFENSES</td>\n",
       "      <td>ASSAULT 3</td>\n",
       "      <td>ANTI-WHITE</td>\n",
       "      <td>Race/Color</td>\n",
       "      <td>NaN</td>\n",
       "      <td>03/09/2019</td>\n",
       "      <td>B19610788</td>\n",
       "    </tr>\n",
       "    <tr>\n",
       "      <th>3</th>\n",
       "      <td>201904800159299</td>\n",
       "      <td>2019</td>\n",
       "      <td>3</td>\n",
       "      <td>03/10/2019</td>\n",
       "      <td>48</td>\n",
       "      <td>PATROL BORO BRONX</td>\n",
       "      <td>BRONX</td>\n",
       "      <td>MISDEMEANOR</td>\n",
       "      <td>ASSAULT 3 &amp; RELATED OFFENSES</td>\n",
       "      <td>ASSAULT 3</td>\n",
       "      <td>ANTI-WHITE</td>\n",
       "      <td>Race/Color</td>\n",
       "      <td>NaN</td>\n",
       "      <td>03/09/2019</td>\n",
       "      <td>B19610788</td>\n",
       "    </tr>\n",
       "    <tr>\n",
       "      <th>4</th>\n",
       "      <td>201904200333499</td>\n",
       "      <td>2019</td>\n",
       "      <td>5</td>\n",
       "      <td>05/11/2019</td>\n",
       "      <td>42</td>\n",
       "      <td>PATROL BORO BRONX</td>\n",
       "      <td>BRONX</td>\n",
       "      <td>FELONY</td>\n",
       "      <td>ROBBERY</td>\n",
       "      <td>ROBBERY,POCKETBOOK/CARRIED BAG</td>\n",
       "      <td>ANTI-ISLAMIC(MUSLIM)</td>\n",
       "      <td>Religion/Religious Practice</td>\n",
       "      <td>NaN</td>\n",
       "      <td>05/10/2019</td>\n",
       "      <td>B19620156</td>\n",
       "    </tr>\n",
       "  </tbody>\n",
       "</table>\n",
       "</div>"
      ],
      "text/plain": [
       "   Full Complaint ID  Complaint Year Number  Month Number Record Create Date  \\\n",
       "0    201904600132799                   2019             2         02/08/2019   \n",
       "1    201904800157499                   2019             3         03/09/2019   \n",
       "2    201904800154599                   2019             3         03/08/2019   \n",
       "3    201904800159299                   2019             3         03/10/2019   \n",
       "4    201904200333499                   2019             5         05/11/2019   \n",
       "\n",
       "   Complaint Precinct Code Patrol Borough Name County  \\\n",
       "0                       46   PATROL BORO BRONX  BRONX   \n",
       "1                       48   PATROL BORO BRONX  BRONX   \n",
       "2                       48   PATROL BORO BRONX  BRONX   \n",
       "3                       48   PATROL BORO BRONX  BRONX   \n",
       "4                       42   PATROL BORO BRONX  BRONX   \n",
       "\n",
       "  Law Code Category Description           Offense Description  \\\n",
       "0                        FELONY                FELONY ASSAULT   \n",
       "1                   MISDEMEANOR  ASSAULT 3 & RELATED OFFENSES   \n",
       "2                   MISDEMEANOR  ASSAULT 3 & RELATED OFFENSES   \n",
       "3                   MISDEMEANOR  ASSAULT 3 & RELATED OFFENSES   \n",
       "4                        FELONY                       ROBBERY   \n",
       "\n",
       "              PD Code Description    Bias Motive Description  \\\n",
       "0        ASSAULT 2,1,UNCLASSIFIED  ANTI-MALE HOMOSEXUAL(GAY)   \n",
       "1                       ASSAULT 3                 ANTI-WHITE   \n",
       "2                       ASSAULT 3                 ANTI-WHITE   \n",
       "3                       ASSAULT 3                 ANTI-WHITE   \n",
       "4  ROBBERY,POCKETBOOK/CARRIED BAG       ANTI-ISLAMIC(MUSLIM)   \n",
       "\n",
       "              Offense Category Other Motive Description Arrest Date  Arrest Id  \n",
       "0           Sexual Orientation                      NaN  02/08/2019  B19606200  \n",
       "1                   Race/Color                      NaN  03/09/2019  B19610772  \n",
       "2                   Race/Color                      NaN  03/09/2019  B19610788  \n",
       "3                   Race/Color                      NaN  03/09/2019  B19610788  \n",
       "4  Religion/Religious Practice                      NaN  05/10/2019  B19620156  "
      ]
     },
     "execution_count": 123,
     "metadata": {},
     "output_type": "execute_result"
    }
   ],
   "source": [
    "main.head()"
   ]
  },
  {
   "cell_type": "markdown",
   "metadata": {},
   "source": [
    "## Slim the data down to 2020 and clean up data we are using"
   ]
  },
  {
   "cell_type": "code",
   "execution_count": 124,
   "metadata": {},
   "outputs": [],
   "source": [
    "main = main[main['Complaint Year Number'] == 2020]"
   ]
  },
  {
   "cell_type": "code",
   "execution_count": 125,
   "metadata": {},
   "outputs": [],
   "source": [
    "main = main[['Month Number',\n",
    "             'Record Create Date',\n",
    "             'Patrol Borough Name',\n",
    "             'County',\n",
    "             'Law Code Category Description',\n",
    "             'Bias Motive Description',\n",
    "             'Offense Category',\n",
    "             'Arrest Date']]"
   ]
  },
  {
   "cell_type": "code",
   "execution_count": 126,
   "metadata": {},
   "outputs": [],
   "source": [
    "main.rename(columns={'Month Number': 'Month',\n",
    "                     'Patrol Borough Name': 'Borough',\n",
    "                     'Law Code Category Description': 'Crime Type',\n",
    "                     'Bias Motive Description': 'Bias'}, inplace=True)"
   ]
  },
  {
   "cell_type": "code",
   "execution_count": 127,
   "metadata": {},
   "outputs": [
    {
     "data": {
      "text/html": [
       "<div>\n",
       "<style scoped>\n",
       "    .dataframe tbody tr th:only-of-type {\n",
       "        vertical-align: middle;\n",
       "    }\n",
       "\n",
       "    .dataframe tbody tr th {\n",
       "        vertical-align: top;\n",
       "    }\n",
       "\n",
       "    .dataframe thead th {\n",
       "        text-align: right;\n",
       "    }\n",
       "</style>\n",
       "<table border=\"1\" class=\"dataframe\">\n",
       "  <thead>\n",
       "    <tr style=\"text-align: right;\">\n",
       "      <th></th>\n",
       "      <th>Month</th>\n",
       "      <th>Record Create Date</th>\n",
       "      <th>Borough</th>\n",
       "      <th>County</th>\n",
       "      <th>Crime Type</th>\n",
       "      <th>Bias</th>\n",
       "      <th>Offense Category</th>\n",
       "      <th>Arrest Date</th>\n",
       "    </tr>\n",
       "  </thead>\n",
       "  <tbody>\n",
       "    <tr>\n",
       "      <th>13</th>\n",
       "      <td>2</td>\n",
       "      <td>02/06/2020</td>\n",
       "      <td>PATROL BORO BRONX</td>\n",
       "      <td>BRONX</td>\n",
       "      <td>MISDEMEANOR</td>\n",
       "      <td>ANTI-MALE HOMOSEXUAL(GAY)</td>\n",
       "      <td>Sexual Orientation</td>\n",
       "      <td>02/06/2020</td>\n",
       "    </tr>\n",
       "    <tr>\n",
       "      <th>14</th>\n",
       "      <td>3</td>\n",
       "      <td>03/28/2020</td>\n",
       "      <td>PATROL BORO BRONX</td>\n",
       "      <td>BRONX</td>\n",
       "      <td>FELONY</td>\n",
       "      <td>ANTI-ASIAN</td>\n",
       "      <td>Race/Color</td>\n",
       "      <td>03/28/2020</td>\n",
       "    </tr>\n",
       "    <tr>\n",
       "      <th>15</th>\n",
       "      <td>3</td>\n",
       "      <td>03/28/2020</td>\n",
       "      <td>PATROL BORO BRONX</td>\n",
       "      <td>BRONX</td>\n",
       "      <td>FELONY</td>\n",
       "      <td>ANTI-ASIAN</td>\n",
       "      <td>Race/Color</td>\n",
       "      <td>03/28/2020</td>\n",
       "    </tr>\n",
       "    <tr>\n",
       "      <th>16</th>\n",
       "      <td>3</td>\n",
       "      <td>03/28/2020</td>\n",
       "      <td>PATROL BORO BRONX</td>\n",
       "      <td>BRONX</td>\n",
       "      <td>FELONY</td>\n",
       "      <td>ANTI-ASIAN</td>\n",
       "      <td>Race/Color</td>\n",
       "      <td>03/28/2020</td>\n",
       "    </tr>\n",
       "    <tr>\n",
       "      <th>17</th>\n",
       "      <td>4</td>\n",
       "      <td>04/12/2020</td>\n",
       "      <td>PATROL BORO BRONX</td>\n",
       "      <td>BRONX</td>\n",
       "      <td>FELONY</td>\n",
       "      <td>ANTI-JEWISH</td>\n",
       "      <td>Religion/Religious Practice</td>\n",
       "      <td>04/29/2020</td>\n",
       "    </tr>\n",
       "  </tbody>\n",
       "</table>\n",
       "</div>"
      ],
      "text/plain": [
       "    Month Record Create Date            Borough County   Crime Type  \\\n",
       "13      2         02/06/2020  PATROL BORO BRONX  BRONX  MISDEMEANOR   \n",
       "14      3         03/28/2020  PATROL BORO BRONX  BRONX       FELONY   \n",
       "15      3         03/28/2020  PATROL BORO BRONX  BRONX       FELONY   \n",
       "16      3         03/28/2020  PATROL BORO BRONX  BRONX       FELONY   \n",
       "17      4         04/12/2020  PATROL BORO BRONX  BRONX       FELONY   \n",
       "\n",
       "                         Bias             Offense Category Arrest Date  \n",
       "13  ANTI-MALE HOMOSEXUAL(GAY)           Sexual Orientation  02/06/2020  \n",
       "14                 ANTI-ASIAN                   Race/Color  03/28/2020  \n",
       "15                 ANTI-ASIAN                   Race/Color  03/28/2020  \n",
       "16                 ANTI-ASIAN                   Race/Color  03/28/2020  \n",
       "17                ANTI-JEWISH  Religion/Religious Practice  04/29/2020  "
      ]
     },
     "execution_count": 127,
     "metadata": {},
     "output_type": "execute_result"
    }
   ],
   "source": [
    "main.head()"
   ]
  },
  {
   "cell_type": "markdown",
   "metadata": {},
   "source": [
    "## Bargraph of crime by borough"
   ]
  },
  {
   "cell_type": "code",
   "execution_count": 128,
   "metadata": {},
   "outputs": [],
   "source": [
    "crimes_by_burough = main[['Borough', 'Offense Category']] "
   ]
  },
  {
   "cell_type": "code",
   "execution_count": null,
   "metadata": {},
   "outputs": [],
   "source": []
  },
  {
   "cell_type": "code",
   "execution_count": 129,
   "metadata": {
    "scrolled": true
   },
   "outputs": [
    {
     "data": {
      "text/plain": [
       "<AxesSubplot:xlabel='Borough'>"
      ]
     },
     "execution_count": 129,
     "metadata": {},
     "output_type": "execute_result"
    },
    {
     "data": {
      "image/png": "[encoded data removed]",
      "text/plain": [
       "<Figure size 1080x504 with 1 Axes>"
      ]
     },
     "metadata": {
      "needs_background": "light"
     },
     "output_type": "display_data"
    }
   ],
   "source": [
    "crimes_by_burough.groupby(['Borough', 'Offense Category']).agg({'Offense Category': 'count'}).unstack().plot(kind='bar', stacked=True, figsize = (15,7))"
   ]
  },
  {
   "cell_type": "markdown",
   "metadata": {},
   "source": [
    "## Top 5 Borough Crime Distribution"
   ]
  },
  {
   "cell_type": "code",
   "execution_count": 130,
   "metadata": {},
   "outputs": [
    {
     "data": {
      "text/html": [
       "<div>\n",
       "<style scoped>\n",
       "    .dataframe tbody tr th:only-of-type {\n",
       "        vertical-align: middle;\n",
       "    }\n",
       "\n",
       "    .dataframe tbody tr th {\n",
       "        vertical-align: top;\n",
       "    }\n",
       "\n",
       "    .dataframe thead th {\n",
       "        text-align: right;\n",
       "    }\n",
       "</style>\n",
       "<table border=\"1\" class=\"dataframe\">\n",
       "  <thead>\n",
       "    <tr style=\"text-align: right;\">\n",
       "      <th></th>\n",
       "      <th>Borough</th>\n",
       "      <th>Crime Count</th>\n",
       "    </tr>\n",
       "  </thead>\n",
       "  <tbody>\n",
       "    <tr>\n",
       "      <th>1</th>\n",
       "      <td>PATROL BORO BKLYN SOUTH</td>\n",
       "      <td>55</td>\n",
       "    </tr>\n",
       "    <tr>\n",
       "      <th>0</th>\n",
       "      <td>PATROL BORO BKLYN NORTH</td>\n",
       "      <td>51</td>\n",
       "    </tr>\n",
       "    <tr>\n",
       "      <th>4</th>\n",
       "      <td>PATROL BORO MAN SOUTH</td>\n",
       "      <td>49</td>\n",
       "    </tr>\n",
       "    <tr>\n",
       "      <th>3</th>\n",
       "      <td>PATROL BORO MAN NORTH</td>\n",
       "      <td>34</td>\n",
       "    </tr>\n",
       "    <tr>\n",
       "      <th>5</th>\n",
       "      <td>PATROL BORO QUEENS NORTH</td>\n",
       "      <td>27</td>\n",
       "    </tr>\n",
       "  </tbody>\n",
       "</table>\n",
       "</div>"
      ],
      "text/plain": [
       "                    Borough  Crime Count\n",
       "1   PATROL BORO BKLYN SOUTH           55\n",
       "0   PATROL BORO BKLYN NORTH           51\n",
       "4     PATROL BORO MAN SOUTH           49\n",
       "3     PATROL BORO MAN NORTH           34\n",
       "5  PATROL BORO QUEENS NORTH           27"
      ]
     },
     "execution_count": 130,
     "metadata": {},
     "output_type": "execute_result"
    }
   ],
   "source": [
    "ranked_borough_by_crime = main.groupby('Borough', as_index=False).agg({\"Bias\": \"count\"}).rename(columns={'Bias': 'Crime Count'}).sort_values('Crime Count', ascending=False)\n",
    "ranked_borough_by_crime_top = ranked_borough_by_crime.head(5)\n",
    "ranked_borough_by_crime_top.head()"
   ]
  },
  {
   "cell_type": "code",
   "execution_count": 131,
   "metadata": {
    "scrolled": false
   },
   "outputs": [
    {
     "data": {
      "text/plain": [
       "<AxesSubplot:>"
      ]
     },
     "execution_count": 131,
     "metadata": {},
     "output_type": "execute_result"
    },
    {
     "data": {
      "image/png": "[encoded data removed]",
      "text/plain": [
       "<Figure size 432x432 with 1 Axes>"
      ]
     },
     "metadata": {},
     "output_type": "display_data"
    }
   ],
   "source": [
    "# Take the top 5 from above, use it to get all our lines from main data source and graph that beautiful data\n",
    "main[main['Borough'].isin(list(ranked_borough_by_crime_top['Borough']))].groupby(['Borough']).size().plot.pie(figsize=(6, 6), ylabel='', autopct=\"%.1f\",)"
   ]
  },
  {
   "cell_type": "markdown",
   "metadata": {},
   "source": [
    "## Highest crime over the year - trend"
   ]
  },
  {
   "cell_type": "code",
   "execution_count": 132,
   "metadata": {},
   "outputs": [
    {
     "name": "stdout",
     "output_type": "stream",
     "text": [
      "Religion/Religious Practice\n"
     ]
    },
    {
     "data": {
      "text/html": [
       "<div>\n",
       "<style scoped>\n",
       "    .dataframe tbody tr th:only-of-type {\n",
       "        vertical-align: middle;\n",
       "    }\n",
       "\n",
       "    .dataframe tbody tr th {\n",
       "        vertical-align: top;\n",
       "    }\n",
       "\n",
       "    .dataframe thead th {\n",
       "        text-align: right;\n",
       "    }\n",
       "</style>\n",
       "<table border=\"1\" class=\"dataframe\">\n",
       "  <thead>\n",
       "    <tr style=\"text-align: right;\">\n",
       "      <th></th>\n",
       "      <th>Month</th>\n",
       "      <th>Record Create Date</th>\n",
       "      <th>Borough</th>\n",
       "      <th>County</th>\n",
       "      <th>Crime Type</th>\n",
       "      <th>Bias</th>\n",
       "      <th>Offense Category</th>\n",
       "      <th>Arrest Date</th>\n",
       "    </tr>\n",
       "  </thead>\n",
       "  <tbody>\n",
       "    <tr>\n",
       "      <th>17</th>\n",
       "      <td>4</td>\n",
       "      <td>04/12/2020</td>\n",
       "      <td>PATROL BORO BRONX</td>\n",
       "      <td>BRONX</td>\n",
       "      <td>FELONY</td>\n",
       "      <td>ANTI-JEWISH</td>\n",
       "      <td>Religion/Religious Practice</td>\n",
       "      <td>04/29/2020</td>\n",
       "    </tr>\n",
       "    <tr>\n",
       "      <th>80</th>\n",
       "      <td>1</td>\n",
       "      <td>01/01/2020</td>\n",
       "      <td>PATROL BORO BKLYN NORTH</td>\n",
       "      <td>KINGS</td>\n",
       "      <td>FELONY</td>\n",
       "      <td>ANTI-JEWISH</td>\n",
       "      <td>Religion/Religious Practice</td>\n",
       "      <td>01/01/2020</td>\n",
       "    </tr>\n",
       "    <tr>\n",
       "      <th>81</th>\n",
       "      <td>1</td>\n",
       "      <td>01/21/2020</td>\n",
       "      <td>PATROL BORO BKLYN SOUTH</td>\n",
       "      <td>KINGS</td>\n",
       "      <td>MISDEMEANOR</td>\n",
       "      <td>ANTI-JEWISH</td>\n",
       "      <td>Religion/Religious Practice</td>\n",
       "      <td>01/21/2020</td>\n",
       "    </tr>\n",
       "    <tr>\n",
       "      <th>83</th>\n",
       "      <td>2</td>\n",
       "      <td>02/08/2020</td>\n",
       "      <td>PATROL BORO BKLYN SOUTH</td>\n",
       "      <td>KINGS</td>\n",
       "      <td>FELONY</td>\n",
       "      <td>ANTI-JEWISH</td>\n",
       "      <td>Religion/Religious Practice</td>\n",
       "      <td>02/11/2020</td>\n",
       "    </tr>\n",
       "    <tr>\n",
       "      <th>84</th>\n",
       "      <td>2</td>\n",
       "      <td>02/28/2020</td>\n",
       "      <td>PATROL BORO BKLYN NORTH</td>\n",
       "      <td>KINGS</td>\n",
       "      <td>MISDEMEANOR</td>\n",
       "      <td>ANTI-JEWISH</td>\n",
       "      <td>Religion/Religious Practice</td>\n",
       "      <td>02/28/2020</td>\n",
       "    </tr>\n",
       "  </tbody>\n",
       "</table>\n",
       "</div>"
      ],
      "text/plain": [
       "    Month Record Create Date                  Borough County   Crime Type  \\\n",
       "17      4         04/12/2020        PATROL BORO BRONX  BRONX       FELONY   \n",
       "80      1         01/01/2020  PATROL BORO BKLYN NORTH  KINGS       FELONY   \n",
       "81      1         01/21/2020  PATROL BORO BKLYN SOUTH  KINGS  MISDEMEANOR   \n",
       "83      2         02/08/2020  PATROL BORO BKLYN SOUTH  KINGS       FELONY   \n",
       "84      2         02/28/2020  PATROL BORO BKLYN NORTH  KINGS  MISDEMEANOR   \n",
       "\n",
       "           Bias             Offense Category Arrest Date  \n",
       "17  ANTI-JEWISH  Religion/Religious Practice  04/29/2020  \n",
       "80  ANTI-JEWISH  Religion/Religious Practice  01/01/2020  \n",
       "81  ANTI-JEWISH  Religion/Religious Practice  01/21/2020  \n",
       "83  ANTI-JEWISH  Religion/Religious Practice  02/11/2020  \n",
       "84  ANTI-JEWISH  Religion/Religious Practice  02/28/2020  "
      ]
     },
     "execution_count": 132,
     "metadata": {},
     "output_type": "execute_result"
    }
   ],
   "source": [
    "# Rack and stack crime types, sort by count, pull top value off to use later\n",
    "highest_crime_type = main.groupby('Offense Category', as_index=False).agg({\"Borough\": \"count\"}).sort_values('Borough',ascending=False).head(1)\n",
    "highest_crime_type_key = highest_crime_type['Offense Category'].iloc[0]\n",
    "print(highest_crime_type_key)\n",
    "highest_crime_df = main[main['Offense Category'] == highest_crime_type_key]\n",
    "highest_crime_df.head()"
   ]
  },
  {
   "cell_type": "code",
   "execution_count": 133,
   "metadata": {},
   "outputs": [
    {
     "data": {
      "text/plain": [
       "<AxesSubplot:>"
      ]
     },
     "execution_count": 133,
     "metadata": {},
     "output_type": "execute_result"
    },
    {
     "data": {
      "image/png": "[encoded data removed]",
      "text/plain": [
       "<Figure size 432x288 with 1 Axes>"
      ]
     },
     "metadata": {
      "needs_background": "light"
     },
     "output_type": "display_data"
    }
   ],
   "source": [
    "#Now Plot it out ... East side walk it out, west side walk it out...UNK say Plot it out!!!\n",
    "highest_crime_df['Month'].value_counts().sort_index().plot()"
   ]
  },
  {
   "cell_type": "markdown",
   "metadata": {},
   "source": [
    "## Who is impacted most by this crime?"
   ]
  },
  {
   "cell_type": "code",
   "execution_count": 134,
   "metadata": {},
   "outputs": [
    {
     "data": {
      "text/html": [
       "<div>\n",
       "<style scoped>\n",
       "    .dataframe tbody tr th:only-of-type {\n",
       "        vertical-align: middle;\n",
       "    }\n",
       "\n",
       "    .dataframe tbody tr th {\n",
       "        vertical-align: top;\n",
       "    }\n",
       "\n",
       "    .dataframe thead th {\n",
       "        text-align: right;\n",
       "    }\n",
       "</style>\n",
       "<table border=\"1\" class=\"dataframe\">\n",
       "  <thead>\n",
       "    <tr style=\"text-align: right;\">\n",
       "      <th></th>\n",
       "      <th>Month</th>\n",
       "      <th>Record Create Date</th>\n",
       "      <th>Borough</th>\n",
       "      <th>County</th>\n",
       "      <th>Crime Type</th>\n",
       "      <th>Bias</th>\n",
       "      <th>Offense Category</th>\n",
       "      <th>Arrest Date</th>\n",
       "    </tr>\n",
       "  </thead>\n",
       "  <tbody>\n",
       "    <tr>\n",
       "      <th>17</th>\n",
       "      <td>4</td>\n",
       "      <td>04/12/2020</td>\n",
       "      <td>PATROL BORO BRONX</td>\n",
       "      <td>BRONX</td>\n",
       "      <td>FELONY</td>\n",
       "      <td>ANTI-JEWISH</td>\n",
       "      <td>Religion/Religious Practice</td>\n",
       "      <td>04/29/2020</td>\n",
       "    </tr>\n",
       "    <tr>\n",
       "      <th>80</th>\n",
       "      <td>1</td>\n",
       "      <td>01/01/2020</td>\n",
       "      <td>PATROL BORO BKLYN NORTH</td>\n",
       "      <td>KINGS</td>\n",
       "      <td>FELONY</td>\n",
       "      <td>ANTI-JEWISH</td>\n",
       "      <td>Religion/Religious Practice</td>\n",
       "      <td>01/01/2020</td>\n",
       "    </tr>\n",
       "    <tr>\n",
       "      <th>81</th>\n",
       "      <td>1</td>\n",
       "      <td>01/21/2020</td>\n",
       "      <td>PATROL BORO BKLYN SOUTH</td>\n",
       "      <td>KINGS</td>\n",
       "      <td>MISDEMEANOR</td>\n",
       "      <td>ANTI-JEWISH</td>\n",
       "      <td>Religion/Religious Practice</td>\n",
       "      <td>01/21/2020</td>\n",
       "    </tr>\n",
       "    <tr>\n",
       "      <th>83</th>\n",
       "      <td>2</td>\n",
       "      <td>02/08/2020</td>\n",
       "      <td>PATROL BORO BKLYN SOUTH</td>\n",
       "      <td>KINGS</td>\n",
       "      <td>FELONY</td>\n",
       "      <td>ANTI-JEWISH</td>\n",
       "      <td>Religion/Religious Practice</td>\n",
       "      <td>02/11/2020</td>\n",
       "    </tr>\n",
       "    <tr>\n",
       "      <th>84</th>\n",
       "      <td>2</td>\n",
       "      <td>02/28/2020</td>\n",
       "      <td>PATROL BORO BKLYN NORTH</td>\n",
       "      <td>KINGS</td>\n",
       "      <td>MISDEMEANOR</td>\n",
       "      <td>ANTI-JEWISH</td>\n",
       "      <td>Religion/Religious Practice</td>\n",
       "      <td>02/28/2020</td>\n",
       "    </tr>\n",
       "  </tbody>\n",
       "</table>\n",
       "</div>"
      ],
      "text/plain": [
       "    Month Record Create Date                  Borough County   Crime Type  \\\n",
       "17      4         04/12/2020        PATROL BORO BRONX  BRONX       FELONY   \n",
       "80      1         01/01/2020  PATROL BORO BKLYN NORTH  KINGS       FELONY   \n",
       "81      1         01/21/2020  PATROL BORO BKLYN SOUTH  KINGS  MISDEMEANOR   \n",
       "83      2         02/08/2020  PATROL BORO BKLYN SOUTH  KINGS       FELONY   \n",
       "84      2         02/28/2020  PATROL BORO BKLYN NORTH  KINGS  MISDEMEANOR   \n",
       "\n",
       "           Bias             Offense Category Arrest Date  \n",
       "17  ANTI-JEWISH  Religion/Religious Practice  04/29/2020  \n",
       "80  ANTI-JEWISH  Religion/Religious Practice  01/01/2020  \n",
       "81  ANTI-JEWISH  Religion/Religious Practice  01/21/2020  \n",
       "83  ANTI-JEWISH  Religion/Religious Practice  02/11/2020  \n",
       "84  ANTI-JEWISH  Religion/Religious Practice  02/28/2020  "
      ]
     },
     "execution_count": 134,
     "metadata": {},
     "output_type": "execute_result"
    }
   ],
   "source": [
    "highest_crime_df.head()"
   ]
  },
  {
   "cell_type": "code",
   "execution_count": 135,
   "metadata": {},
   "outputs": [
    {
     "name": "stdout",
     "output_type": "stream",
     "text": [
      "ANTI-JEWISH\n"
     ]
    }
   ],
   "source": [
    "most_impacted_group = highest_crime_df.groupby('Bias').agg({'Crime Type': 'count'}).sort_values(by=['Crime Type'], ascending=False).index[0]\n",
    "print(most_impacted_group)"
   ]
  },
  {
   "cell_type": "markdown",
   "metadata": {},
   "source": [
    "## Where?"
   ]
  },
  {
   "cell_type": "code",
   "execution_count": 136,
   "metadata": {},
   "outputs": [
    {
     "data": {
      "text/html": [
       "<div>\n",
       "<style scoped>\n",
       "    .dataframe tbody tr th:only-of-type {\n",
       "        vertical-align: middle;\n",
       "    }\n",
       "\n",
       "    .dataframe tbody tr th {\n",
       "        vertical-align: top;\n",
       "    }\n",
       "\n",
       "    .dataframe thead th {\n",
       "        text-align: right;\n",
       "    }\n",
       "</style>\n",
       "<table border=\"1\" class=\"dataframe\">\n",
       "  <thead>\n",
       "    <tr style=\"text-align: right;\">\n",
       "      <th></th>\n",
       "      <th>Month</th>\n",
       "      <th>Record Create Date</th>\n",
       "      <th>Borough</th>\n",
       "      <th>County</th>\n",
       "      <th>Crime Type</th>\n",
       "      <th>Bias</th>\n",
       "      <th>Offense Category</th>\n",
       "      <th>Arrest Date</th>\n",
       "    </tr>\n",
       "  </thead>\n",
       "  <tbody>\n",
       "    <tr>\n",
       "      <th>13</th>\n",
       "      <td>2</td>\n",
       "      <td>02/06/2020</td>\n",
       "      <td>PATROL BORO BRONX</td>\n",
       "      <td>BRONX</td>\n",
       "      <td>MISDEMEANOR</td>\n",
       "      <td>ANTI-MALE HOMOSEXUAL(GAY)</td>\n",
       "      <td>Sexual Orientation</td>\n",
       "      <td>02/06/2020</td>\n",
       "    </tr>\n",
       "    <tr>\n",
       "      <th>14</th>\n",
       "      <td>3</td>\n",
       "      <td>03/28/2020</td>\n",
       "      <td>PATROL BORO BRONX</td>\n",
       "      <td>BRONX</td>\n",
       "      <td>FELONY</td>\n",
       "      <td>ANTI-ASIAN</td>\n",
       "      <td>Race/Color</td>\n",
       "      <td>03/28/2020</td>\n",
       "    </tr>\n",
       "    <tr>\n",
       "      <th>15</th>\n",
       "      <td>3</td>\n",
       "      <td>03/28/2020</td>\n",
       "      <td>PATROL BORO BRONX</td>\n",
       "      <td>BRONX</td>\n",
       "      <td>FELONY</td>\n",
       "      <td>ANTI-ASIAN</td>\n",
       "      <td>Race/Color</td>\n",
       "      <td>03/28/2020</td>\n",
       "    </tr>\n",
       "    <tr>\n",
       "      <th>16</th>\n",
       "      <td>3</td>\n",
       "      <td>03/28/2020</td>\n",
       "      <td>PATROL BORO BRONX</td>\n",
       "      <td>BRONX</td>\n",
       "      <td>FELONY</td>\n",
       "      <td>ANTI-ASIAN</td>\n",
       "      <td>Race/Color</td>\n",
       "      <td>03/28/2020</td>\n",
       "    </tr>\n",
       "    <tr>\n",
       "      <th>17</th>\n",
       "      <td>4</td>\n",
       "      <td>04/12/2020</td>\n",
       "      <td>PATROL BORO BRONX</td>\n",
       "      <td>BRONX</td>\n",
       "      <td>FELONY</td>\n",
       "      <td>ANTI-JEWISH</td>\n",
       "      <td>Religion/Religious Practice</td>\n",
       "      <td>04/29/2020</td>\n",
       "    </tr>\n",
       "  </tbody>\n",
       "</table>\n",
       "</div>"
      ],
      "text/plain": [
       "    Month Record Create Date            Borough County   Crime Type  \\\n",
       "13      2         02/06/2020  PATROL BORO BRONX  BRONX  MISDEMEANOR   \n",
       "14      3         03/28/2020  PATROL BORO BRONX  BRONX       FELONY   \n",
       "15      3         03/28/2020  PATROL BORO BRONX  BRONX       FELONY   \n",
       "16      3         03/28/2020  PATROL BORO BRONX  BRONX       FELONY   \n",
       "17      4         04/12/2020  PATROL BORO BRONX  BRONX       FELONY   \n",
       "\n",
       "                         Bias             Offense Category Arrest Date  \n",
       "13  ANTI-MALE HOMOSEXUAL(GAY)           Sexual Orientation  02/06/2020  \n",
       "14                 ANTI-ASIAN                   Race/Color  03/28/2020  \n",
       "15                 ANTI-ASIAN                   Race/Color  03/28/2020  \n",
       "16                 ANTI-ASIAN                   Race/Color  03/28/2020  \n",
       "17                ANTI-JEWISH  Religion/Religious Practice  04/29/2020  "
      ]
     },
     "execution_count": 136,
     "metadata": {},
     "output_type": "execute_result"
    }
   ],
   "source": [
    "main.head()"
   ]
  },
  {
   "cell_type": "code",
   "execution_count": 137,
   "metadata": {},
   "outputs": [
    {
     "name": "stdout",
     "output_type": "stream",
     "text": [
      "PATROL BORO BKLYN SOUTH\n"
     ]
    }
   ],
   "source": [
    "worst_offending_area = main[main['Bias'] == most_impacted_group].groupby(['Borough']).agg({'Bias':'count'}).sort_values(by=['Bias'], ascending=False).index[0]\n",
    "print(worst_offending_area)"
   ]
  },
  {
   "cell_type": "markdown",
   "metadata": {},
   "source": [
    "## Has this changed during covid?"
   ]
  },
  {
   "cell_type": "code",
   "execution_count": 138,
   "metadata": {},
   "outputs": [],
   "source": [
    "def sorting_for_worst_offending_area_group(row):\n",
    "    if row['Borough'] == worst_offending_area and row['Bias'] == most_impacted_group:\n",
    "        return 1\n",
    "    else:\n",
    "        return 0"
   ]
  },
  {
   "cell_type": "code",
   "execution_count": 139,
   "metadata": {},
   "outputs": [],
   "source": [
    "change_analysis = main.copy()"
   ]
  },
  {
   "cell_type": "code",
   "execution_count": 140,
   "metadata": {},
   "outputs": [],
   "source": [
    "change_analysis['check'] = main.apply(sorting_for_worst_offending_area_group, axis =1)"
   ]
  },
  {
   "cell_type": "code",
   "execution_count": 141,
   "metadata": {},
   "outputs": [],
   "source": [
    "change_analysis = change_analysis[change_analysis['check'] == 1]"
   ]
  },
  {
   "cell_type": "code",
   "execution_count": 143,
   "metadata": {},
   "outputs": [],
   "source": [
    "change_analysis.drop(columns=['check'], inplace=True, axis = 0)"
   ]
  },
  {
   "cell_type": "code",
   "execution_count": 145,
   "metadata": {},
   "outputs": [],
   "source": [
    "h1 = change_analysis[change_analysis['Month'] <= 6]\n",
    "h2 = change_analysis[change_analysis['Month'] >= 6]"
   ]
  },
  {
   "cell_type": "markdown",
   "metadata": {},
   "source": [
    "### Check for potentially off data"
   ]
  },
  {
   "cell_type": "code",
   "execution_count": 146,
   "metadata": {},
   "outputs": [],
   "source": [
    "def cleaner(remove_index, df):\n",
    "    for line in remove_index:\n",
    "        df.drop(line, axis=0, inplace=True)"
   ]
  },
  {
   "cell_type": "code",
   "execution_count": 147,
   "metadata": {},
   "outputs": [],
   "source": [
    "# clean up any outlier data that seems sus\n",
    "h1_drop_lines = list(h1[pd.to_datetime(h1['Record Create Date']) < dt.datetime(2020, 1, 1)].index)\n",
    "cleaner(h1_drop_lines, h1)"
   ]
  },
  {
   "cell_type": "code",
   "execution_count": 152,
   "metadata": {
    "scrolled": true
   },
   "outputs": [
    {
     "name": "stderr",
     "output_type": "stream",
     "text": [
      "/Users/rjasinski/py3/lib/python3.7/site-packages/pandas/core/frame.py:4167: SettingWithCopyWarning: \n",
      "A value is trying to be set on a copy of a slice from a DataFrame\n",
      "\n",
      "See the caveats in the documentation: https://pandas.pydata.org/pandas-docs/stable/user_guide/indexing.html#returning-a-view-versus-a-copy\n",
      "  errors=errors,\n"
     ]
    }
   ],
   "source": [
    "#Remove the potential bad lines aka maybe data corruption\n",
    "h2_drop_lines = list(h2[pd.to_datetime(h2['Record Create Date']) < dt.datetime(2020, 6, 1)].index)\n",
    "cleaner(h2_drop_lines, h2)"
   ]
  },
  {
   "cell_type": "markdown",
   "metadata": {},
   "source": [
    "## Have asians been impacted?"
   ]
  },
  {
   "cell_type": "code",
   "execution_count": null,
   "metadata": {},
   "outputs": [],
   "source": []
  },
  {
   "cell_type": "code",
   "execution_count": null,
   "metadata": {},
   "outputs": [],
   "source": []
  },
  {
   "cell_type": "markdown",
   "metadata": {},
   "source": [
    "## How has the worst offending crime area faired over the year?"
   ]
  },
  {
   "cell_type": "code",
   "execution_count": 16,
   "metadata": {},
   "outputs": [
    {
     "data": {
      "text/html": [
       "<div>\n",
       "<style scoped>\n",
       "    .dataframe tbody tr th:only-of-type {\n",
       "        vertical-align: middle;\n",
       "    }\n",
       "\n",
       "    .dataframe tbody tr th {\n",
       "        vertical-align: top;\n",
       "    }\n",
       "\n",
       "    .dataframe thead th {\n",
       "        text-align: right;\n",
       "    }\n",
       "</style>\n",
       "<table border=\"1\" class=\"dataframe\">\n",
       "  <thead>\n",
       "    <tr style=\"text-align: right;\">\n",
       "      <th></th>\n",
       "      <th>Month</th>\n",
       "      <th>Record Create Date</th>\n",
       "      <th>Borough</th>\n",
       "      <th>County</th>\n",
       "      <th>Crime Type</th>\n",
       "      <th>Bias</th>\n",
       "      <th>Offense Category</th>\n",
       "      <th>Arrest Date</th>\n",
       "    </tr>\n",
       "  </thead>\n",
       "  <tbody>\n",
       "    <tr>\n",
       "      <th>17</th>\n",
       "      <td>4</td>\n",
       "      <td>04/12/2020</td>\n",
       "      <td>PATROL BORO BRONX</td>\n",
       "      <td>BRONX</td>\n",
       "      <td>FELONY</td>\n",
       "      <td>ANTI-JEWISH</td>\n",
       "      <td>Religion/Religious Practice</td>\n",
       "      <td>04/29/2020</td>\n",
       "    </tr>\n",
       "    <tr>\n",
       "      <th>80</th>\n",
       "      <td>1</td>\n",
       "      <td>01/01/2020</td>\n",
       "      <td>PATROL BORO BKLYN NORTH</td>\n",
       "      <td>KINGS</td>\n",
       "      <td>FELONY</td>\n",
       "      <td>ANTI-JEWISH</td>\n",
       "      <td>Religion/Religious Practice</td>\n",
       "      <td>01/01/2020</td>\n",
       "    </tr>\n",
       "    <tr>\n",
       "      <th>81</th>\n",
       "      <td>1</td>\n",
       "      <td>01/21/2020</td>\n",
       "      <td>PATROL BORO BKLYN SOUTH</td>\n",
       "      <td>KINGS</td>\n",
       "      <td>MISDEMEANOR</td>\n",
       "      <td>ANTI-JEWISH</td>\n",
       "      <td>Religion/Religious Practice</td>\n",
       "      <td>01/21/2020</td>\n",
       "    </tr>\n",
       "    <tr>\n",
       "      <th>83</th>\n",
       "      <td>2</td>\n",
       "      <td>02/08/2020</td>\n",
       "      <td>PATROL BORO BKLYN SOUTH</td>\n",
       "      <td>KINGS</td>\n",
       "      <td>FELONY</td>\n",
       "      <td>ANTI-JEWISH</td>\n",
       "      <td>Religion/Religious Practice</td>\n",
       "      <td>02/11/2020</td>\n",
       "    </tr>\n",
       "    <tr>\n",
       "      <th>84</th>\n",
       "      <td>2</td>\n",
       "      <td>02/28/2020</td>\n",
       "      <td>PATROL BORO BKLYN NORTH</td>\n",
       "      <td>KINGS</td>\n",
       "      <td>MISDEMEANOR</td>\n",
       "      <td>ANTI-JEWISH</td>\n",
       "      <td>Religion/Religious Practice</td>\n",
       "      <td>02/28/2020</td>\n",
       "    </tr>\n",
       "  </tbody>\n",
       "</table>\n",
       "</div>"
      ],
      "text/plain": [
       "    Month Record Create Date                  Borough County   Crime Type  \\\n",
       "17      4         04/12/2020        PATROL BORO BRONX  BRONX       FELONY   \n",
       "80      1         01/01/2020  PATROL BORO BKLYN NORTH  KINGS       FELONY   \n",
       "81      1         01/21/2020  PATROL BORO BKLYN SOUTH  KINGS  MISDEMEANOR   \n",
       "83      2         02/08/2020  PATROL BORO BKLYN SOUTH  KINGS       FELONY   \n",
       "84      2         02/28/2020  PATROL BORO BKLYN NORTH  KINGS  MISDEMEANOR   \n",
       "\n",
       "           Bias             Offense Category Arrest Date  \n",
       "17  ANTI-JEWISH  Religion/Religious Practice  04/29/2020  \n",
       "80  ANTI-JEWISH  Religion/Religious Practice  01/01/2020  \n",
       "81  ANTI-JEWISH  Religion/Religious Practice  01/21/2020  \n",
       "83  ANTI-JEWISH  Religion/Religious Practice  02/11/2020  \n",
       "84  ANTI-JEWISH  Religion/Religious Practice  02/28/2020  "
      ]
     },
     "execution_count": 16,
     "metadata": {},
     "output_type": "execute_result"
    }
   ],
   "source": [
    "highest_crime_df."
   ]
  },
  {
   "cell_type": "code",
   "execution_count": null,
   "metadata": {},
   "outputs": [],
   "source": []
  }
 ],
 "metadata": {
  "kernelspec": {
   "display_name": "Python 3",
   "language": "python",
   "name": "python3"
  },
  "language_info": {
   "codemirror_mode": {
    "name": "ipython",
    "version": 3
   },
   "file_extension": ".py",
   "mimetype": "text/x-python",
   "name": "python",
   "nbconvert_exporter": "python",
   "pygments_lexer": "ipython3",
   "version": "3.7.8"
  }
 },
 "nbformat": 4,
 "nbformat_minor": 4
}
